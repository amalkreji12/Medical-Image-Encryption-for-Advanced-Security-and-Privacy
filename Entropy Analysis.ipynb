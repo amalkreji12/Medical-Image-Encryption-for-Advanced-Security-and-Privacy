{
 "cells": [
  {
   "cell_type": "code",
   "execution_count": 21,
   "id": "c1fd4e13",
   "metadata": {},
   "outputs": [
    {
     "name": "stdout",
     "output_type": "stream",
     "text": [
      "Shannon Entropy of the image: 7.998712539672852\n"
     ]
    }
   ],
   "source": [
    "import cv2\n",
    "import numpy as np\n",
    "\n",
    "def calculate_shannon_entropy(image_path):\n",
    "    # Read the image as grayscale\n",
    "    image = cv2.imread(image_path, cv2.IMREAD_GRAYSCALE)\n",
    "\n",
    "    # Calculate the histogram of the image\n",
    "    hist = cv2.calcHist([image], [0], None, [256], [0, 256])\n",
    "\n",
    "    # Normalize the histogram\n",
    "    hist /= hist.sum()\n",
    "\n",
    "    # Calculate Shannon entropy\n",
    "    entropy = -np.sum(hist * np.log2(hist + np.finfo(float).eps))\n",
    "\n",
    "    return entropy\n",
    "\n",
    "if __name__ == \"__main__\":\n",
    "    image_path = \"Encrypted_image_5.jpg\"\n",
    "    entropy = calculate_shannon_entropy(image_path)\n",
    "    print(f\"Shannon Entropy of the image: {entropy}\")\n"
   ]
  },
  {
   "cell_type": "code",
   "execution_count": 22,
   "id": "264211ce",
   "metadata": {},
   "outputs": [
    {
     "name": "stdout",
     "output_type": "stream",
     "text": [
      "Shannon Entropy of the image: 7.998762130737305\n"
     ]
    }
   ],
   "source": [
    "import cv2\n",
    "import numpy as np\n",
    "\n",
    "def calculate_shannon_entropy(image_path):\n",
    "    # Read the image as grayscale\n",
    "    image = cv2.imread(image_path, cv2.IMREAD_GRAYSCALE)\n",
    "\n",
    "    # Calculate the histogram of the image\n",
    "    hist = cv2.calcHist([image], [0], None, [256], [0, 256])\n",
    "\n",
    "    # Normalize the histogram\n",
    "    hist /= hist.sum()\n",
    "\n",
    "    # Calculate Shannon entropy\n",
    "    entropy = -np.sum(hist * np.log2(hist + np.finfo(float).eps))\n",
    "\n",
    "    return entropy\n",
    "\n",
    "if __name__ == \"__main__\":\n",
    "    image_path = \"Using 2-D LSCM/gray/encrypted_image_5.jpg\"\n",
    "    entropy = calculate_shannon_entropy(image_path)\n",
    "    print(f\"Shannon Entropy of the image: {entropy}\")\n"
   ]
  },
  {
   "cell_type": "code",
   "execution_count": null,
   "id": "4026cdf0",
   "metadata": {},
   "outputs": [],
   "source": []
  },
  {
   "cell_type": "code",
   "execution_count": null,
   "id": "4abe6e79",
   "metadata": {},
   "outputs": [],
   "source": []
  },
  {
   "cell_type": "code",
   "execution_count": null,
   "id": "a084ae0e",
   "metadata": {},
   "outputs": [],
   "source": []
  }
 ],
 "metadata": {
  "kernelspec": {
   "display_name": "Python 3 (ipykernel)",
   "language": "python",
   "name": "python3"
  },
  "language_info": {
   "codemirror_mode": {
    "name": "ipython",
    "version": 3
   },
   "file_extension": ".py",
   "mimetype": "text/x-python",
   "name": "python",
   "nbconvert_exporter": "python",
   "pygments_lexer": "ipython3",
   "version": "3.9.12"
  }
 },
 "nbformat": 4,
 "nbformat_minor": 5
}
