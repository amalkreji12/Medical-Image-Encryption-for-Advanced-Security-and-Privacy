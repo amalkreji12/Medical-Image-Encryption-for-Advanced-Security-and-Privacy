{
 "cells": [
  {
   "cell_type": "code",
   "execution_count": 29,
   "id": "42c42e86",
   "metadata": {},
   "outputs": [],
   "source": [
    "from PIL import Image\n",
    "import numpy as np\n",
    "from matplotlib import pyplot as plt\n",
    "import cv2"
   ]
  },
  {
   "cell_type": "code",
   "execution_count": 30,
   "id": "a72199c8",
   "metadata": {},
   "outputs": [],
   "source": [
    "# Read the grayscale medical image into a 2D array\n",
    "def read_medical_image(image_path):\n",
    "    try:\n",
    "        image = Image.open(image_path).convert(\"L\")\n",
    "        image_array = np.array(image)\n",
    "        return image_array\n",
    "    except Exception as e:\n",
    "        return None\n"
   ]
  },
  {
   "cell_type": "code",
   "execution_count": 31,
   "id": "fef5ae4e",
   "metadata": {},
   "outputs": [],
   "source": [
    "# Use the 1D standard logistic map as a random key generator\n",
    "def logistic_map(mu, x):\n",
    "    return mu * x * (1 - x)"
   ]
  },
  {
   "cell_type": "code",
   "execution_count": 32,
   "id": "e6e33fe5",
   "metadata": {},
   "outputs": [],
   "source": [
    "def generate_random_key(initial_condition, control_parameter, size):\n",
    "    key = []\n",
    "    x = initial_condition\n",
    "    for _ in range(size):\n",
    "        x = logistic_map(control_parameter, x)\n",
    "        key.append(x)\n",
    "    return key"
   ]
  },
  {
   "cell_type": "code",
   "execution_count": 33,
   "id": "f2e869c7",
   "metadata": {},
   "outputs": [],
   "source": [
    "# Confuse the pixel positions \n",
    "def confuse_pixels(image_array, random_key):\n",
    "    height, width = image_array.shape\n",
    "    flattened_image = image_array.flatten()\n",
    "    pixel_order = np.argsort(random_key)\n",
    "    return flattened_image[pixel_order].reshape(height, width)"
   ]
  },
  {
   "cell_type": "code",
   "execution_count": 34,
   "id": "3c9134af",
   "metadata": {},
   "outputs": [],
   "source": [
    "#  Diffuse the pixels \n",
    "def diffuse_pixels(image_array, random_key):\n",
    "    bit=2**32\n",
    "    height, width = image_array.shape\n",
    "    flattened_image = image_array.flatten()\n",
    "    diffused_image = np.zeros_like(flattened_image)\n",
    "    for i, pixel in enumerate(flattened_image):\n",
    "        diffused_image[i] = (pixel + int(random_key[i]*bit)) % 256\n",
    "    return diffused_image.reshape(height, width)\n",
    "\n"
   ]
  },
  {
   "cell_type": "code",
   "execution_count": 35,
   "id": "a7fa651a",
   "metadata": {},
   "outputs": [],
   "source": [
    "# Main function to encryption\n",
    "\n",
    "def encrypt_image(image_path, initial_condition, control_parameter):\n",
    "    # Step 1: Read the image\n",
    "    image_array = read_medical_image(image_path)\n",
    "    if image_array is None:\n",
    "        return None\n",
    "    #print(image_array)\n",
    "\n",
    "    # Step 2: Generate the random key\n",
    "    random_key = generate_random_key(initial_condition, control_parameter, image_array.size)\n",
    "    print(random_key[0:5])\n",
    "    #print(image_array.size)\n",
    "    #print(len(random_key))\n",
    "    \n",
    "\n",
    "    # Step 3: Confuse pixel positions\n",
    "    confused_image = confuse_pixels(image_array, random_key)\n",
    "    #print(confused_image)\n",
    "\n",
    "    # Step 4: Diffuse pixel values\n",
    "    encrypted_image = diffuse_pixels(confused_image, random_key)\n",
    "    #print(encrypted_image)\n",
    "\n",
    "    return encrypted_image"
   ]
  },
  {
   "cell_type": "code",
   "execution_count": 36,
   "id": "2f572bc5",
   "metadata": {},
   "outputs": [
    {
     "name": "stdout",
     "output_type": "stream",
     "text": [
      "[0.9288, 0.25592526720000014, 0.7369545210093156, 0.7502093877464614, 0.7252196650373034]\n"
     ]
    }
   ],
   "source": [
    "\n",
    "image_path = \"images/lungs.jpg\"  # Replace with the path to your image\n",
    "initial_condition = 0.4\n",
    "control_parameter = 3.87\n",
    "encrypted_image = encrypt_image(image_path, initial_condition, control_parameter)\n"
   ]
  },
  {
   "cell_type": "code",
   "execution_count": 37,
   "id": "8c4520dd",
   "metadata": {},
   "outputs": [
    {
     "name": "stdout",
     "output_type": "stream",
     "text": [
      "Image encryption complete.\n"
     ]
    }
   ],
   "source": [
    "if encrypted_image is not None:\n",
    "    # Save the encrypted image\n",
    "    encrypted_image = Image.fromarray(encrypted_image)\n",
    "    encrypted_image.save(\"Encrypted_image.jpg\")\n",
    "    print(\"Image encryption complete.\")\n",
    "else:\n",
    "    print(\"Failed to encrypt the image.\")"
   ]
  },
  {
   "cell_type": "code",
   "execution_count": 38,
   "id": "cb5f6880",
   "metadata": {},
   "outputs": [],
   "source": [
    "encrypted_image = Image.open(\"Encrypted_image.jpg\")\n",
    "encrypted_image.show()"
   ]
  },
  {
   "cell_type": "code",
   "execution_count": 43,
   "id": "2d205d72",
   "metadata": {},
   "outputs": [],
   "source": [
    "im=cv2.imread(image_path)"
   ]
  },
  {
   "cell_type": "code",
   "execution_count": null,
   "id": "b4ec4094",
   "metadata": {},
   "outputs": [],
   "source": []
  }
 ],
 "metadata": {
  "kernelspec": {
   "display_name": "Python 3 (ipykernel)",
   "language": "python",
   "name": "python3"
  },
  "language_info": {
   "codemirror_mode": {
    "name": "ipython",
    "version": 3
   },
   "file_extension": ".py",
   "mimetype": "text/x-python",
   "name": "python",
   "nbconvert_exporter": "python",
   "pygments_lexer": "ipython3",
   "version": "3.9.12"
  }
 },
 "nbformat": 4,
 "nbformat_minor": 5
}
