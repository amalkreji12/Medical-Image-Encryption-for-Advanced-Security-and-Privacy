{
 "cells": [
  {
   "cell_type": "code",
   "execution_count": 2,
   "id": "2885856f",
   "metadata": {},
   "outputs": [
    {
     "name": "stderr",
     "output_type": "stream",
     "text": [
      "C:\\Users\\user\\anaconda3\\lib\\site-packages\\scipy\\__init__.py:146: UserWarning: A NumPy version >=1.16.5 and <1.23.0 is required for this version of SciPy (detected version 1.24.3\n",
      "  warnings.warn(f\"A NumPy version >={np_minversion} and <{np_maxversion}\"\n"
     ]
    }
   ],
   "source": [
    "import cv2\n",
    "import numpy as np\n",
    "from skimage.feature import greycomatrix, greycoprops\n",
    "import time"
   ]
  },
  {
   "cell_type": "code",
   "execution_count": 50,
   "id": "95ed51d6",
   "metadata": {},
   "outputs": [
    {
     "name": "stdout",
     "output_type": "stream",
     "text": [
      "Average Contrast: 10937.33\n"
     ]
    },
    {
     "name": "stderr",
     "output_type": "stream",
     "text": [
      "C:\\Users\\user\\anaconda3\\lib\\site-packages\\skimage\\feature\\__init__.py:35: skimage_deprecation: Function ``greycomatrix`` is deprecated and will be removed in version 1.0. Use ``skimage.feature.graycomatrix`` instead.\n",
      "  removed_version='1.0')\n",
      "C:\\Users\\user\\anaconda3\\lib\\site-packages\\skimage\\feature\\__init__.py:42: skimage_deprecation: Function ``greycoprops`` is deprecated and will be removed in version 1.0. Use ``skimage.feature.graycoprops`` instead.\n",
      "  removed_version='1.0')\n"
     ]
    }
   ],
   "source": [
    "\n",
    "\n",
    "# Load the input image\n",
    "image_path = \"Encrypted_image_5.jpg\"  \n",
    "image = cv2.imread(image_path, cv2.IMREAD_GRAYSCALE)\n",
    "\n",
    "# Define the predefined distance and angles\n",
    "distance = 1\n",
    "angles = [0, np.pi/4, np.pi/2, 3*np.pi/4]  # These angles correspond to 0°, 45°, 90°, and 135°\n",
    "\n",
    "# Calculate the gray level co-occurrence matrix (GLCM)\n",
    "glcm = greycomatrix(image, [distance], angles, symmetric=True, normed=False)\n",
    "\n",
    "# Calculate the contrast feature\n",
    "contrast = greycoprops(glcm, 'contrast')\n",
    "\n",
    "# The calculated contrast value is a list of values for each angle\n",
    "# To get the average contrast value, you can take the mean\n",
    "average_contrast = np.mean(contrast)\n",
    "\n",
    "\n",
    "\n",
    "print(f\"Average Contrast: {average_contrast:.2f}\")\n"
   ]
  },
  {
   "cell_type": "code",
   "execution_count": 51,
   "id": "b1266e6e",
   "metadata": {},
   "outputs": [
    {
     "name": "stdout",
     "output_type": "stream",
     "text": [
      "Average Contrast: 10940.11\n"
     ]
    },
    {
     "name": "stderr",
     "output_type": "stream",
     "text": [
      "C:\\Users\\user\\anaconda3\\lib\\site-packages\\skimage\\feature\\__init__.py:35: skimage_deprecation: Function ``greycomatrix`` is deprecated and will be removed in version 1.0. Use ``skimage.feature.graycomatrix`` instead.\n",
      "  removed_version='1.0')\n",
      "C:\\Users\\user\\anaconda3\\lib\\site-packages\\skimage\\feature\\__init__.py:42: skimage_deprecation: Function ``greycoprops`` is deprecated and will be removed in version 1.0. Use ``skimage.feature.graycoprops`` instead.\n",
      "  removed_version='1.0')\n"
     ]
    }
   ],
   "source": [
    "\n",
    "# Load the input image\n",
    "image_path = \"Using 2-D LSCM/gray/encrypted_image_5.jpg\"  \n",
    "image = cv2.imread(image_path, cv2.IMREAD_GRAYSCALE)\n",
    "\n",
    "# Define the predefined distance and angles\n",
    "distance = 1\n",
    "angles = [0, np.pi/4, np.pi/2, 3*np.pi/4]  # These angles correspond to 0°, 45°, 90°, and 135°\n",
    "\n",
    "# Calculate the gray level co-occurrence matrix (GLCM)\n",
    "glcm = greycomatrix(image, [distance], angles, symmetric=True, normed=False)\n",
    "\n",
    "# Calculate the contrast feature\n",
    "contrast = greycoprops(glcm, 'contrast')\n",
    "\n",
    "# The calculated contrast value is a list of values for each angle\n",
    "\n",
    "average_contrast = np.mean(contrast)\n",
    "\n",
    "\n",
    "print(f\"Average Contrast: {average_contrast:.2f}\")\n",
    "\n"
   ]
  },
  {
   "cell_type": "code",
   "execution_count": null,
   "id": "3fd5adc3",
   "metadata": {},
   "outputs": [],
   "source": []
  },
  {
   "cell_type": "code",
   "execution_count": null,
   "id": "95badc71",
   "metadata": {},
   "outputs": [],
   "source": []
  }
 ],
 "metadata": {
  "kernelspec": {
   "display_name": "Python 3 (ipykernel)",
   "language": "python",
   "name": "python3"
  },
  "language_info": {
   "codemirror_mode": {
    "name": "ipython",
    "version": 3
   },
   "file_extension": ".py",
   "mimetype": "text/x-python",
   "name": "python",
   "nbconvert_exporter": "python",
   "pygments_lexer": "ipython3",
   "version": "3.9.12"
  }
 },
 "nbformat": 4,
 "nbformat_minor": 5
}
