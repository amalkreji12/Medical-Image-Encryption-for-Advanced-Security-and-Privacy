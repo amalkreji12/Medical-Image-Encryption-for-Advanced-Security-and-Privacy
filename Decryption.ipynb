{
 "cells": [
  {
   "cell_type": "code",
   "execution_count": 4,
   "id": "aad3b87b",
   "metadata": {},
   "outputs": [],
   "source": [
    "from PIL import Image\n",
    "import numpy as np\n",
    "import cv2\n",
    "from matplotlib import pyplot as plt"
   ]
  },
  {
   "cell_type": "code",
   "execution_count": 2,
   "id": "47fc6c2a",
   "metadata": {},
   "outputs": [],
   "source": [
    "\n",
    "def read_medical_image(image_path):\n",
    "    try:\n",
    "        image = Image.open(image_path)\n",
    "        image_array = np.array(image)\n",
    "        return image_array\n",
    "    except Exception as e:\n",
    "        return None"
   ]
  },
  {
   "cell_type": "code",
   "execution_count": 3,
   "id": "1c6ebbc6",
   "metadata": {},
   "outputs": [],
   "source": [
    "\n",
    "def logistic_map(mu, x):\n",
    "    return mu * x * (1 - x)"
   ]
  },
  {
   "cell_type": "code",
   "execution_count": 4,
   "id": "7dfe148c",
   "metadata": {},
   "outputs": [],
   "source": [
    "\n",
    "def generate_random_key(initial_condition, control_parameter, size):\n",
    "    key = []\n",
    "    x = initial_condition\n",
    "    for _ in range(size):\n",
    "        x = logistic_map(control_parameter, x)\n",
    "        key.append(x)\n",
    "    return key"
   ]
  },
  {
   "cell_type": "code",
   "execution_count": 5,
   "id": "c44b02bc",
   "metadata": {},
   "outputs": [],
   "source": [
    "#Reverse Confuse the pixels\n",
    "\n",
    "def reverse_confuse_pixels(confused_image, random_key):\n",
    "    # Flatten the confused image\n",
    "    flattened_image = confused_image.flatten()\n",
    "    reversed_image = np.zeros_like(flattened_image)\n",
    "    pixel_order = np.argsort(random_key)\n",
    "    reversed_image[pixel_order] = flattened_image\n",
    "    height, width = confused_image.shape\n",
    "    return reversed_image.reshape(height, width)\n"
   ]
  },
  {
   "cell_type": "code",
   "execution_count": 6,
   "id": "a0a444a1",
   "metadata": {},
   "outputs": [],
   "source": [
    "# Reverse Diffuse the pixels \n",
    "\n",
    "def reverse_diffuse_pixels(diffused_image, random_key):\n",
    "    bit=2**32\n",
    "    flattened_image = diffused_image.flatten()\n",
    "    reversed_image = np.zeros_like(flattened_image)    \n",
    "    for i, pixel in enumerate(flattened_image):\n",
    "        reversed_image[i] = (pixel - int(random_key[i] * bit)) % 256\n",
    "    height, width = diffused_image.shape\n",
    "    return reversed_image.reshape(height, width)\n"
   ]
  },
  {
   "cell_type": "code",
   "execution_count": 7,
   "id": "88010ad3",
   "metadata": {},
   "outputs": [],
   "source": [
    "# Main function of decryption\n",
    "\n",
    "def decrypt_image(image_path, initial_condition, control_parameter):\n",
    "    # Step 1: Read the image\n",
    "    image_array = read_medical_image(image_path)\n",
    "    if image_array is None:\n",
    "        return None\n",
    "\n",
    "    # Step 2: Generate the random key\n",
    "    random_key = generate_random_key(initial_condition, control_parameter, image_array.size)\n",
    "    #print(random_key[0:5])\n",
    "\n",
    "    # Step 3: Confuse pixel positions\n",
    "    reversed_diffusion_image = reverse_diffuse_pixels(image_array, random_key)\n",
    "    print()\n",
    "\n",
    "    # Step 4: Diffuse pixel values\n",
    "    original_image = reverse_confuse_pixels(reversed_diffusion_image, random_key)\n",
    "    #print(original_image)\n",
    "\n",
    "    return original_image"
   ]
  },
  {
   "cell_type": "code",
   "execution_count": 11,
   "id": "8a12395b",
   "metadata": {},
   "outputs": [
    {
     "name": "stdout",
     "output_type": "stream",
     "text": [
      "\n"
     ]
    }
   ],
   "source": [
    "\n",
    "image_path = \"Encrypted_image.jpg\"  #encrypted image path\n",
    "initial_condition = 0.4\n",
    "control_parameter = 3.87\n",
    "decrypted_image = decrypt_image(image_path, initial_condition, control_parameter)\n"
   ]
  },
  {
   "cell_type": "code",
   "execution_count": 12,
   "id": "530b3e18",
   "metadata": {},
   "outputs": [
    {
     "name": "stdout",
     "output_type": "stream",
     "text": [
      "Image decryption complete.\n"
     ]
    }
   ],
   "source": [
    "if decrypted_image is not None:\n",
    "\n",
    "    decrypted_image = Image.fromarray(decrypted_image)\n",
    "    decrypted_image.save(\"Decrypted_image.jpg\")\n",
    "    print(\"Image decryption complete.\")\n",
    "else:\n",
    "    print(\"Failed to decrypt the image.\")"
   ]
  },
  {
   "cell_type": "code",
   "execution_count": 13,
   "id": "9af60d0f",
   "metadata": {},
   "outputs": [],
   "source": [
    "decrypted_image = Image.open(\"Decrypted_image.jpg\")\n",
    "decrypted_image.show()"
   ]
  },
  {
   "cell_type": "code",
   "execution_count": null,
   "id": "e424baef",
   "metadata": {},
   "outputs": [],
   "source": []
  },
  {
   "cell_type": "code",
   "execution_count": 5,
   "id": "4d4ab319",
   "metadata": {},
   "outputs": [
    {
     "data": {
      "text/plain": [
       "(1024, 1024, 3)"
      ]
     },
     "execution_count": 5,
     "metadata": {},
     "output_type": "execute_result"
    }
   ],
   "source": [
    "original_image = \"images/lungs.jpg\"\n",
    "image = cv2.imread(original_image)\n",
    "image.shape"
   ]
  },
  {
   "cell_type": "code",
   "execution_count": 3,
   "id": "9f838326",
   "metadata": {},
   "outputs": [
    {
     "ename": "NameError",
     "evalue": "name 'cv2' is not defined",
     "output_type": "error",
     "traceback": [
      "\u001b[1;31m---------------------------------------------------------------------------\u001b[0m",
      "\u001b[1;31mNameError\u001b[0m                                 Traceback (most recent call last)",
      "Input \u001b[1;32mIn [3]\u001b[0m, in \u001b[0;36m<cell line: 1>\u001b[1;34m()\u001b[0m\n\u001b[1;32m----> 1\u001b[0m image \u001b[38;5;241m=\u001b[39m \u001b[43mcv2\u001b[49m\u001b[38;5;241m.\u001b[39mimread(original_image)\n\u001b[0;32m      2\u001b[0m img_rgb \u001b[38;5;241m=\u001b[39m cv2\u001b[38;5;241m.\u001b[39mcvtColor(image, cv2\u001b[38;5;241m.\u001b[39mCOLOR_BGR2RGB)\n\u001b[0;32m      3\u001b[0m plt\u001b[38;5;241m.\u001b[39msubplot(\u001b[38;5;241m2\u001b[39m, \u001b[38;5;241m2\u001b[39m, \u001b[38;5;241m1\u001b[39m)\n",
      "\u001b[1;31mNameError\u001b[0m: name 'cv2' is not defined"
     ]
    }
   ],
   "source": [
    "image = cv2.imread(original_image)\n",
    "img_rgb = cv2.cvtColor(image, cv2.COLOR_BGR2RGB)\n",
    "plt.subplot(2, 2, 1)\n",
    "plt.imshow(img_rgb)\n",
    "plt.title(\"Original Image\")\n",
    "\n",
    "encry_img = cv2.imread(image_path)\n",
    "ency_rgb = cv2.cvtColor(encry_img, cv2.COLOR_BGR2RGB)\n",
    "plt.subplot(2, 2, 2)\n",
    "plt.imshow(ency_rgb)\n",
    "plt.title(\"Encrypted Image\")\n",
    "\n",
    "\n",
    "plt.subplot(2, 2, 3)\n",
    "plt.hist(image.ravel(), bins=256)\n",
    "plt.xlim(0, 255)  \n",
    "plt.ylim(0, 55000)\n",
    "\n",
    "plt.subplot(2, 2, 4)\n",
    "plt.hist(encry_img.ravel(), bins=256)\n",
    "plt.xlim(0, 255)  \n",
    "plt.ylim(0, 20000)\n",
    "\n",
    "plt.show()"
   ]
  },
  {
   "cell_type": "code",
   "execution_count": null,
   "id": "bdca62fd",
   "metadata": {},
   "outputs": [],
   "source": []
  }
 ],
 "metadata": {
  "kernelspec": {
   "display_name": "Python 3 (ipykernel)",
   "language": "python",
   "name": "python3"
  },
  "language_info": {
   "codemirror_mode": {
    "name": "ipython",
    "version": 3
   },
   "file_extension": ".py",
   "mimetype": "text/x-python",
   "name": "python",
   "nbconvert_exporter": "python",
   "pygments_lexer": "ipython3",
   "version": "3.9.12"
  }
 },
 "nbformat": 4,
 "nbformat_minor": 5
}
